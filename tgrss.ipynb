{
  "nbformat": 4,
  "nbformat_minor": 0,
  "metadata": {
    "colab": {
      "provenance": [],
      "authorship_tag": "ABX9TyOnCd5Wspio+i60cAnKp306",
      "include_colab_link": true
    },
    "kernelspec": {
      "name": "python3",
      "display_name": "Python 3"
    },
    "language_info": {
      "name": "python"
    }
  },
  "cells": [
    {
      "cell_type": "markdown",
      "metadata": {
        "id": "view-in-github",
        "colab_type": "text"
      },
      "source": [
        "<a href=\"https://colab.research.google.com/github/okhko/Predicting-Employee-Turnover-Complete-Guide-Analysis/blob/master/tgrss.ipynb\" target=\"_parent\"><img src=\"https://colab.research.google.com/assets/colab-badge.svg\" alt=\"Open In Colab\"/></a>"
      ]
    },
    {
      "cell_type": "code",
      "source": [
        "!pip install python-telegram-bot"
      ],
      "metadata": {
        "colab": {
          "base_uri": "https://localhost:8080/"
        },
        "id": "dPsIaLNFjq_6",
        "outputId": "fd5d4f6f-3ac6-4e1b-d3ba-a98893c95575"
      },
      "execution_count": 5,
      "outputs": [
        {
          "output_type": "stream",
          "name": "stdout",
          "text": [
            "Collecting python-telegram-bot\n",
            "  Downloading python_telegram_bot-21.3-py3-none-any.whl (631 kB)\n",
            "\u001b[2K     \u001b[90m━━━━━━━━━━━━━━━━━━━━━━━━━━━━━━━━━━━━━━━━\u001b[0m \u001b[32m631.6/631.6 kB\u001b[0m \u001b[31m6.5 MB/s\u001b[0m eta \u001b[36m0:00:00\u001b[0m\n",
            "\u001b[?25hCollecting httpx~=0.27 (from python-telegram-bot)\n",
            "  Downloading httpx-0.27.0-py3-none-any.whl (75 kB)\n",
            "\u001b[2K     \u001b[90m━━━━━━━━━━━━━━━━━━━━━━━━━━━━━━━━━━━━━━━━\u001b[0m \u001b[32m75.6/75.6 kB\u001b[0m \u001b[31m8.9 MB/s\u001b[0m eta \u001b[36m0:00:00\u001b[0m\n",
            "\u001b[?25hRequirement already satisfied: anyio in /usr/local/lib/python3.10/dist-packages (from httpx~=0.27->python-telegram-bot) (3.7.1)\n",
            "Requirement already satisfied: certifi in /usr/local/lib/python3.10/dist-packages (from httpx~=0.27->python-telegram-bot) (2024.6.2)\n",
            "Collecting httpcore==1.* (from httpx~=0.27->python-telegram-bot)\n",
            "  Downloading httpcore-1.0.5-py3-none-any.whl (77 kB)\n",
            "\u001b[2K     \u001b[90m━━━━━━━━━━━━━━━━━━━━━━━━━━━━━━━━━━━━━━━━\u001b[0m \u001b[32m77.9/77.9 kB\u001b[0m \u001b[31m9.1 MB/s\u001b[0m eta \u001b[36m0:00:00\u001b[0m\n",
            "\u001b[?25hRequirement already satisfied: idna in /usr/local/lib/python3.10/dist-packages (from httpx~=0.27->python-telegram-bot) (3.7)\n",
            "Requirement already satisfied: sniffio in /usr/local/lib/python3.10/dist-packages (from httpx~=0.27->python-telegram-bot) (1.3.1)\n",
            "Collecting h11<0.15,>=0.13 (from httpcore==1.*->httpx~=0.27->python-telegram-bot)\n",
            "  Downloading h11-0.14.0-py3-none-any.whl (58 kB)\n",
            "\u001b[2K     \u001b[90m━━━━━━━━━━━━━━━━━━━━━━━━━━━━━━━━━━━━━━━━\u001b[0m \u001b[32m58.3/58.3 kB\u001b[0m \u001b[31m7.9 MB/s\u001b[0m eta \u001b[36m0:00:00\u001b[0m\n",
            "\u001b[?25hRequirement already satisfied: exceptiongroup in /usr/local/lib/python3.10/dist-packages (from anyio->httpx~=0.27->python-telegram-bot) (1.2.1)\n",
            "Installing collected packages: h11, httpcore, httpx, python-telegram-bot\n",
            "Successfully installed h11-0.14.0 httpcore-1.0.5 httpx-0.27.0 python-telegram-bot-21.3\n"
          ]
        }
      ]
    },
    {
      "cell_type": "code",
      "source": [
        "import logging\n",
        "import requests\n",
        "from telegram import Update\n",
        "from telegram.ext import Updater, CommandHandler, CallbackContext, JobQueue"
      ],
      "metadata": {
        "id": "JT-hoIdXh6Ms"
      },
      "execution_count": 6,
      "outputs": []
    },
    {
      "cell_type": "code",
      "execution_count": 7,
      "metadata": {
        "colab": {
          "base_uri": "https://localhost:8080/",
          "height": 297
        },
        "id": "SXwiwJCIgvfN",
        "outputId": "3ed3ddfe-8842-4164-f64d-0f3cb356e853"
      },
      "outputs": [
        {
          "output_type": "error",
          "ename": "TypeError",
          "evalue": "Updater.__init__() missing 1 required positional argument: 'update_queue'",
          "traceback": [
            "\u001b[0;31m---------------------------------------------------------------------------\u001b[0m",
            "\u001b[0;31mTypeError\u001b[0m                                 Traceback (most recent call last)",
            "\u001b[0;32m<ipython-input-7-c1ff41080e36>\u001b[0m in \u001b[0;36m<cell line: 55>\u001b[0;34m()\u001b[0m\n\u001b[1;32m     54\u001b[0m \u001b[0;34m\u001b[0m\u001b[0m\n\u001b[1;32m     55\u001b[0m \u001b[0;32mif\u001b[0m \u001b[0m__name__\u001b[0m \u001b[0;34m==\u001b[0m \u001b[0;34m'__main__'\u001b[0m\u001b[0;34m:\u001b[0m\u001b[0;34m\u001b[0m\u001b[0;34m\u001b[0m\u001b[0m\n\u001b[0;32m---> 56\u001b[0;31m     \u001b[0mmain\u001b[0m\u001b[0;34m(\u001b[0m\u001b[0;34m)\u001b[0m\u001b[0;34m\u001b[0m\u001b[0;34m\u001b[0m\u001b[0m\n\u001b[0m",
            "\u001b[0;32m<ipython-input-7-c1ff41080e36>\u001b[0m in \u001b[0;36mmain\u001b[0;34m()\u001b[0m\n\u001b[1;32m     35\u001b[0m \u001b[0;32mdef\u001b[0m \u001b[0mmain\u001b[0m\u001b[0;34m(\u001b[0m\u001b[0;34m)\u001b[0m \u001b[0;34m->\u001b[0m \u001b[0;32mNone\u001b[0m\u001b[0;34m:\u001b[0m\u001b[0;34m\u001b[0m\u001b[0;34m\u001b[0m\u001b[0m\n\u001b[1;32m     36\u001b[0m     \u001b[0;31m# Создаем Updater и диспетчер\u001b[0m\u001b[0;34m\u001b[0m\u001b[0;34m\u001b[0m\u001b[0m\n\u001b[0;32m---> 37\u001b[0;31m     \u001b[0mupdater\u001b[0m \u001b[0;34m=\u001b[0m \u001b[0mUpdater\u001b[0m\u001b[0;34m(\u001b[0m\u001b[0mTOKEN\u001b[0m\u001b[0;34m)\u001b[0m\u001b[0;34m\u001b[0m\u001b[0;34m\u001b[0m\u001b[0m\n\u001b[0m\u001b[1;32m     38\u001b[0m \u001b[0;34m\u001b[0m\u001b[0m\n\u001b[1;32m     39\u001b[0m     \u001b[0;31m# Получаем диспетчер для регистрации обработчиков\u001b[0m\u001b[0;34m\u001b[0m\u001b[0;34m\u001b[0m\u001b[0m\n",
            "\u001b[0;31mTypeError\u001b[0m: Updater.__init__() missing 1 required positional argument: 'update_queue'"
          ]
        }
      ],
      "source": [
        "# Вставьте сюда ваш токен, который вы получили от BotFather\n",
        "TOKEN = '6999535584:AAE_lrVznCEPt--U3iAULV3mbTCJXuB5GBo'\n",
        "\n",
        "CHANNEL_IDS = ['@treugolniklpr', '@LPRalarm']  # Список каналов для мониторинга\n",
        "\n",
        "KEYWORDS = ['Крым',\n",
        "            'Крыму',\n",
        "            'Севастополь',\n",
        "            'Севастополю',\n",
        "            'Ракетная опасность Крым',\n",
        "            'Ракетная опасность Севастополь',\n",
        "            'Отбой ракетной опасности Севастополь',\n",
        "            'Отбой ракетной опасности Крым']  # Список ключевых слов для поиска\n",
        "\n",
        "# Настройка логирования\n",
        "logging.basicConfig(format='%(asctime)s - %(name)s - %(levelname)s - %(message)s', level=logging.INFO)\n",
        "logger = logging.getLogger(__name__)\n",
        "\n",
        "# Функция для обработки команды /start\n",
        "def start(update: Update, context: CallbackContext) -> None:\n",
        "    update.message.reply_text('Привет! Тут просиходит собир новостей из выбранных каналов по заданным ключевым словам.')\n",
        "\n",
        "# Функция для получения новых сообщений из каналов\n",
        "def fetch_channel_messages(context: CallbackContext) -> None:\n",
        "    for channel_id in CHANNEL_IDS:\n",
        "        try:\n",
        "            response = requests.get(f'https://api.telegram.org/bot{TOKEN}/getUpdates?chat_id={channel_id}')\n",
        "            data = response.json()\n",
        "            for result in data['result']:\n",
        "                message_text = result['message']['text']\n",
        "                if any(keyword in message_text for keyword in KEYWORDS):\n",
        "                    context.bot.send_message(chat_id=context.job.context, text=message_text)\n",
        "        except Exception as e:\n",
        "            logger.error(f'Ошибка при получении сообщений из {channel_id}: {e}')\n",
        "\n",
        "def main() -> None:\n",
        "    # Создаем Updater и диспетчер\n",
        "    updater = Updater(TOKEN)\n",
        "\n",
        "    # Получаем диспетчер для регистрации обработчиков\n",
        "    dispatcher = updater.dispatcher\n",
        "\n",
        "    # Регистрируем обработчики\n",
        "    dispatcher.add_handler(CommandHandler(\"start\", start))\n",
        "\n",
        "    # Создаем задачу для получения сообщений каждые 10 секунд\n",
        "    job_queue = updater.job_queue\n",
        "    job_queue.run_repeating(fetch_channel_messages, interval=10, first=0, context=updater.bot)\n",
        "\n",
        "    # Запуск бота\n",
        "    updater.start_polling()\n",
        "\n",
        "    # Ожидание завершения работы\n",
        "    updater.idle()\n",
        "\n",
        "if __name__ == '__main__':\n",
        "    main()"
      ]
    }
  ]
}